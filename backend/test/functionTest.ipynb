{
 "cells": [
  {
   "cell_type": "code",
   "execution_count": 7,
   "outputs": [],
   "source": [
    "import json\n",
    "import validators\n",
    "\n",
    "from flask import Blueprint, jsonify, request\n",
    "from werkzeug.security import check_password_hash, generate_password_hash\n",
    "from src.util.mysqlUtil import *\n",
    "from flask_jwt_extended import get_jwt_identity, jwt_required, create_access_token, create_refresh_token\n"
   ],
   "metadata": {
    "collapsed": false,
    "pycharm": {
     "name": "#%%\n"
    }
   }
  },
  {
   "cell_type": "code",
   "execution_count": null,
   "outputs": [],
   "source": [
    "# # database create test\n",
    "# createDatabase(getDBServer(), \"envTestDatabase\")\n",
    "#\n",
    "# # database drop test\n",
    "# dropDatabase(getDBServer(), \"envTestDatabase\")\n",
    "#\n",
    "# # table create test\n",
    "# createTableSpecified(getDB(), \"customers2\", [\"id INT AUTO_INCREMENT PRIMARY KEY\",\n",
    "#                                              \"name VARCHAR(255)\",\n",
    "#                                              \"address VARCHAR(255)\"])\n",
    "#\n",
    "# # table drop test\n",
    "# dropTable(getDB(), \"customers2\")\n",
    "#\n",
    "# # insert test\n",
    "# keyTupleDemo = (\"name\", \"address\")\n",
    "# valueTupleListDemo = [\n",
    "#     ('Peter', 'Lowstreet 4'),\n",
    "#     ('Amy', 'Apple st 652'),\n",
    "#     ('Hannah', 'Mountain 21'),\n",
    "#     ('Michael', 'Valley 345'),\n",
    "#     ('Sandy', 'Ocean blvd 2'),\n",
    "#     ('Betty', 'Green Grass 1'),\n",
    "#     ('Richard', 'Sky st 331'),\n",
    "#     ('Susan', 'One way 98'),\n",
    "#     ('Vicky', 'Yellow Garden 2'),\n",
    "#     ('Ben', 'Park Lane 38'),\n",
    "#     ('William', 'Central st 954'),\n",
    "#     ('Chuck', 'Main Road 989'),\n",
    "#     ('Viola', 'Sideway 1633')\n",
    "# ]\n",
    "# createTableSpecified(getDB(), \"customers\", [\"id INT AUTO_INCREMENT PRIMARY KEY\",\n",
    "#                                              \"name VARCHAR(255)\",\n",
    "#                                              \"address VARCHAR(255)\"])\n",
    "# insertRows(getDB(), \"customers\", keyTupleDemo, valueTupleListDemo)"
   ],
   "metadata": {
    "collapsed": false,
    "pycharm": {
     "name": "#%%\n"
    }
   }
  },
  {
   "cell_type": "code",
   "execution_count": 1,
   "outputs": [],
   "source": [
    "\"\"\"\n",
    "Postman Operation\n",
    "\"\"\"\n",
    "\n",
    "# @app.route('/test/list_json', methods=['GET'])\n",
    "# def test_list_json():\n",
    "#     listTest = [\n",
    "#         {'a': 1, 'b': 2},\n",
    "#         {'a': 5, 'b': 10}\n",
    "#     ]\n",
    "#     return jsonify({'list': listTest})\n",
    "#\n",
    "#\n",
    "# @app.route('/test/json', methods=['GET'])\n",
    "# def test_json():\n",
    "#     jsonTest = {'a': 1, 'b': 2}\n",
    "#     return jsonify(jsonTest)\n",
    "#\n",
    "#\n",
    "# @app.route('/test/post', methods=['POST'])\n",
    "# def test_post():\n",
    "#     if request.method == \"POST\":\n",
    "#         name = request.json['name']\n",
    "#         return jsonify({'name': name})\n",
    "#     return {}\n",
    "\n",
    "\n",
    "\"\"\"\n",
    "Visualized Operation\n",
    "\"\"\"\n",
    "\n",
    "# @app.route('/data/create', methods=['GET', 'POST'])\n",
    "# def create():\n",
    "#     if request.method == 'GET':\n",
    "#         return render_template('createpage.html')\n",
    "#\n",
    "#     if request.method == 'POST':\n",
    "#         name = request.form['name']\n",
    "#         address = request.form['address']\n",
    "#\n",
    "#         # insert page query\n",
    "#         insertRows(getDB(), \"customers\", (\"name\", \"address\"), [(name, address)])\n",
    "#         return redirect('/data')\n",
    "#\n",
    "#\n",
    "# @app.route('/data')\n",
    "# def RetrieveList():\n",
    "#     # select pages query\n",
    "#     dictCustomers = dbSelect(getDB(), \"SELECT name, address FROM customers\")\n",
    "#     return render_template('datalist.html', employees=dictCustomers)\n",
    "#\n",
    "#\n",
    "# @app.route('/data/<int:id>')\n",
    "# def RetrieveEmployee(id):\n",
    "#     # select page query\n",
    "#     employee = dbSelect(getDB(), \"SELECT * FROM customers WHERE id = \" + str(id))\n",
    "#     if len(employee):\n",
    "#         return render_template('data.html', employee=employee[0])\n",
    "#     return f\"Employee with id ={id} Doenst exist\"\n",
    "#\n",
    "#\n",
    "# @app.route('/data/<int:id>/update', methods=['GET', 'POST'])\n",
    "# def update(id):\n",
    "#     # select page query\n",
    "#     employee = dbSelect(getDB(), \"SELECT * FROM customers WHERE id = \" + str(id))\n",
    "#     if request.method == 'POST':\n",
    "#         if len(employee):\n",
    "#             name = request.form['name']\n",
    "#             address = request.form['address']\n",
    "#             # update page query\n",
    "#             dbUpdate(getDB(),\n",
    "#                      \"UPDATE customers SET name = '\" + name + \"', address = '\" + address + \"' WHERE id = \" + str(id))\n",
    "#             return redirect(f'/data/{id}')\n",
    "#         return f\"Employee with id = {id} Does nit exist\"\n",
    "#\n",
    "#     return render_template('update.html', employee=employee[0])\n",
    "#\n",
    "#\n",
    "# @app.route('/data/<int:id>/delete', methods=['GET', 'POST'])\n",
    "# def delete(id):\n",
    "#     # select page query\n",
    "#     employee = dbSelect(getDB(), \"SELECT * FROM customers WHERE id = \" + str(id))\n",
    "#     if request.method == 'POST':\n",
    "#         if employee:\n",
    "#             # delete page query\n",
    "#             dbDelete(getDB(), \"DELETE FROM customers WHERE id = \" + str(id))\n",
    "#             return redirect('/data')\n",
    "#         abort(404)\n",
    "#\n",
    "#     return render_template('delete.html')"
   ],
   "metadata": {
    "collapsed": false,
    "pycharm": {
     "name": "#%%\n"
    }
   }
  },
  {
   "cell_type": "code",
   "execution_count": 10,
   "outputs": [],
   "source": [
    "host=\"localhost\"\n",
    "user=\"root\"\n",
    "password=\"?Aa13552676625\"\n",
    "database=\"envTestMark2\"\n",
    "db = mysql.connector.connect(host=host, user=user, password=password, database=database)"
   ],
   "metadata": {
    "collapsed": false,
    "pycharm": {
     "name": "#%%\n"
    }
   }
  },
  {
   "cell_type": "code",
   "execution_count": 11,
   "outputs": [
    {
     "name": "stdout",
     "output_type": "stream",
     "text": [
      "12 record(s) selected\n"
     ]
    }
   ],
   "source": [
    "customers = dbSelect(db, \"SELECT * FROM customers\")"
   ],
   "metadata": {
    "collapsed": false,
    "pycharm": {
     "name": "#%%\n"
    }
   }
  },
  {
   "cell_type": "code",
   "execution_count": 12,
   "outputs": [
    {
     "data": {
      "text/plain": "[(1, 'Peter', 'Lowstreet 4'),\n (2, 'Amy', 'Apple st 652'),\n (3, 'Hannah', 'Mountain 21'),\n (4, 'Michael', 'Valley 345'),\n (5, 'Sandy', 'Ocean blvd 2'),\n (6, 'Betty', 'Green Grass 1'),\n (7, 'Richard', 'Sky st 331'),\n (8, 'Susan', 'One way 98'),\n (9, 'Vicky', 'Yellow Garden 2'),\n (10, 'Ben', 'Park Lane 38'),\n (11, 'Rance', 'ABeckStreet'),\n (16, 'QiLi', 'McDo')]"
     },
     "execution_count": 12,
     "metadata": {},
     "output_type": "execute_result"
    }
   ],
   "source": [
    "customers"
   ],
   "metadata": {
    "collapsed": false,
    "pycharm": {
     "name": "#%%\n"
    }
   }
  },
  {
   "cell_type": "code",
   "execution_count": null,
   "outputs": [],
   "source": [],
   "metadata": {
    "collapsed": false,
    "pycharm": {
     "name": "#%%\n"
    }
   }
  }
 ],
 "metadata": {
  "kernelspec": {
   "display_name": "Python 3",
   "language": "python",
   "name": "python3"
  },
  "language_info": {
   "codemirror_mode": {
    "name": "ipython",
    "version": 2
   },
   "file_extension": ".py",
   "mimetype": "text/x-python",
   "name": "python",
   "nbconvert_exporter": "python",
   "pygments_lexer": "ipython2",
   "version": "2.7.6"
  }
 },
 "nbformat": 4,
 "nbformat_minor": 0
}